{
 "cells": [
  {
   "cell_type": "markdown",
   "id": "aebc57c7",
   "metadata": {},
   "source": [
    "### Super()"
   ]
  },
  {
   "cell_type": "code",
   "execution_count": 1,
   "id": "72b10d6d",
   "metadata": {},
   "outputs": [
    {
     "name": "stdout",
     "output_type": "stream",
     "text": [
      "merlin@gmail.com\n"
     ]
    }
   ],
   "source": [
    "class User(object):\n",
    "    def __init__(self, email):\n",
    "        self.email = email\n",
    "        \n",
    "    def sign_in(self):\n",
    "        print(\"logged in\")\n",
    "        \n",
    "        \n",
    "class Wizar(User):\n",
    "    def __init__(self, name, power, email):\n",
    "        super().__init__(email)\n",
    "#         User.__init__(self, email) #this is same the above\n",
    "        self.name = name\n",
    "        self.power = power\n",
    "        \n",
    "    def attack(self):\n",
    "        print(f\"attacking with power of {self.power}\")\n",
    "        \n",
    "wizar1 = Wizar(\"Merlin\", 60, \"merlin@gmail.com\")\n",
    "print(wizar1.email)"
   ]
  },
  {
   "cell_type": "markdown",
   "id": "8f9c67fc",
   "metadata": {},
   "source": [
    "### Object intospection "
   ]
  },
  {
   "cell_type": "code",
   "execution_count": 2,
   "id": "8858823b",
   "metadata": {},
   "outputs": [
    {
     "name": "stdout",
     "output_type": "stream",
     "text": [
      "['__add__', '__class__', '__contains__', '__delattr__', '__dir__', '__doc__', '__eq__', '__format__', '__ge__', '__getattribute__', '__getitem__', '__getnewargs__', '__gt__', '__hash__', '__init__', '__init_subclass__', '__iter__', '__le__', '__len__', '__lt__', '__mod__', '__mul__', '__ne__', '__new__', '__reduce__', '__reduce_ex__', '__repr__', '__rmod__', '__rmul__', '__setattr__', '__sizeof__', '__str__', '__subclasshook__', 'capitalize', 'casefold', 'center', 'count', 'encode', 'endswith', 'expandtabs', 'find', 'format', 'format_map', 'index', 'isalnum', 'isalpha', 'isascii', 'isdecimal', 'isdigit', 'isidentifier', 'islower', 'isnumeric', 'isprintable', 'isspace', 'istitle', 'isupper', 'join', 'ljust', 'lower', 'lstrip', 'maketrans', 'partition', 'removeprefix', 'removesuffix', 'replace', 'rfind', 'rindex', 'rjust', 'rpartition', 'rsplit', 'rstrip', 'split', 'splitlines', 'startswith', 'strip', 'swapcase', 'title', 'translate', 'upper', 'zfill']\n"
     ]
    }
   ],
   "source": [
    "class User(object):\n",
    "    def __init__(self, email):\n",
    "        self.email = email\n",
    "        \n",
    "    def sign_in(self):\n",
    "        print(\"logged in\")\n",
    "        \n",
    "        \n",
    "class Wizar(User):\n",
    "    def __init__(self, name, power, email):\n",
    "        super().__init__(email)\n",
    "#         User.__init__(self, email) #this is same the above\n",
    "        self.name = name\n",
    "        self.power = power\n",
    "        \n",
    "    def attack(self):\n",
    "        print(f\"attacking with power of {self.power}\")\n",
    "\n",
    "# introspection       \n",
    "wizar1 = Wizar(\"Merlin\", 60, \"merlin@gmail.com\")\n",
    "print(dir(wizar1.email))"
   ]
  },
  {
   "cell_type": "markdown",
   "id": "10153b0b",
   "metadata": {},
   "source": [
    "### Dunder Methode"
   ]
  },
  {
   "cell_type": "code",
   "execution_count": 3,
   "id": "d5571429",
   "metadata": {},
   "outputs": [
    {
     "name": "stdout",
     "output_type": "stream",
     "text": [
      "red\n",
      "red\n",
      "5\n",
      "yesss??\n",
      "yoyo\n"
     ]
    }
   ],
   "source": [
    "class Toy():\n",
    "    def __init__(self, color, age):\n",
    "        self.color = color\n",
    "        self.age = age\n",
    "        self.my_dict = {\n",
    "            'name': 'yoyo',\n",
    "            'has_pets': False\n",
    "        }\n",
    "        \n",
    "    def __str__(self):\n",
    "        return f\"{self.color}\"\n",
    "    \n",
    "    def __len__(self):\n",
    "        return 5\n",
    "    \n",
    "    def __call__(self):\n",
    "        return(\"yesss??\")\n",
    "    \n",
    "    def __getitem__(self, i):\n",
    "        return self.my_dict[i]\n",
    "    \n",
    "action_figure = Toy('red', 0)\n",
    "print(action_figure.__str__())\n",
    "print(str(action_figure))\n",
    "print(len(action_figure))\n",
    "print(action_figure())\n",
    "print(action_figure['name'])"
   ]
  },
  {
   "cell_type": "markdown",
   "id": "ced630f0",
   "metadata": {},
   "source": [
    "### Exercise Extending"
   ]
  },
  {
   "cell_type": "code",
   "execution_count": 4,
   "id": "54259b97",
   "metadata": {},
   "outputs": [
    {
     "name": "stdout",
     "output_type": "stream",
     "text": [
      "1000\n",
      "5\n",
      "True\n"
     ]
    }
   ],
   "source": [
    "class SuperList(list):\n",
    "    def __len__(self):\n",
    "        return 1000\n",
    "    \n",
    "    \n",
    "super_list1 = SuperList()\n",
    "\n",
    "print(len(super_list1))\n",
    "super_list1.append(5)\n",
    "print(super_list1[0])\n",
    "print(issubclass(SuperList, list))"
   ]
  },
  {
   "cell_type": "markdown",
   "id": "89931bc0",
   "metadata": {},
   "source": [
    "## Multiple Inheritance"
   ]
  },
  {
   "cell_type": "code",
   "execution_count": 6,
   "id": "a08800b3",
   "metadata": {},
   "outputs": [
    {
     "name": "stdout",
     "output_type": "stream",
     "text": [
      "ran really fast\n",
      "None\n"
     ]
    }
   ],
   "source": [
    "class User():\n",
    "    def sing_in(self):\n",
    "        printt(\"logged in\")\n",
    "        \n",
    "class Wizard(User):\n",
    "    def __init__(self, name, power):\n",
    "        self.name = name\n",
    "        self.power = power\n",
    "        \n",
    "    def attack(self):\n",
    "        print(f\"attacking with power of {self.power}\")\n",
    "        \n",
    "class Archer(User):\n",
    "    def __init__(self, name, arrows):\n",
    "        self.name = name\n",
    "        self.arrows = arrows\n",
    "        \n",
    "    def checl_arrows(self):\n",
    "        print(f\"{self.arrows} remaining\")\n",
    "    \n",
    "    def run(self):\n",
    "        print(\"ran really fast\")\n",
    "\n",
    "class HybridBorg(Wizard, Archer):\n",
    "    def __init__(self, name, power, arrows):\n",
    "        Archer.__init__(self, name, arrows)\n",
    "        Wizard.__init__(self, name, power)\n",
    "        \n",
    "        \n",
    "hb1 = HybridBorg(\"Borgie\", 50)\n",
    "print(hb1.run())"
   ]
  },
  {
   "cell_type": "markdown",
   "id": "65e0594d",
   "metadata": {},
   "source": [
    "### MRO - Method Resolution Order"
   ]
  },
  {
   "cell_type": "code",
   "execution_count": 13,
   "id": "80f99cc0",
   "metadata": {},
   "outputs": [
    {
     "data": {
      "text/plain": [
       "(__main__.M,\n",
       " __main__.B,\n",
       " __main__.A,\n",
       " __main__.X,\n",
       " __main__.Y,\n",
       " __main__.Z,\n",
       " object)"
      ]
     },
     "execution_count": 13,
     "metadata": {},
     "output_type": "execute_result"
    }
   ],
   "source": [
    "# class A:\n",
    "#     pass\n",
    "        \n",
    "# class B(A):\n",
    "#     pass\n",
    "\n",
    "# class C(A):\n",
    "#     pass\n",
    "    \n",
    "# class D(B, C):\n",
    "#     pass\n",
    "\n",
    "# print(D.mro())\n",
    "# D.__str__\n",
    "\n",
    "# #         A\n",
    "# #      /     \\\n",
    "# #     /       \\\n",
    "# #     B        C\n",
    "# #     \\       /\n",
    "# #      \\     /\n",
    "# #         D\n",
    "\n",
    "class X:pass\n",
    "class Y: pass\n",
    "class Z:pass\n",
    "class A(X,Y):pass\n",
    "class B(Y,Z):pass\n",
    "class M(B,A,Z):pass\n",
    "\n",
    "M.__mro__"
   ]
  },
  {
   "cell_type": "markdown",
   "id": "a709374a",
   "metadata": {},
   "source": [
    "### Pure Functions\n",
    "1. Thath given the same imput it will always return the same output\n",
    "2. a function should not produce any side effects"
   ]
  },
  {
   "cell_type": "code",
   "execution_count": 6,
   "id": "1e3d9eaf",
   "metadata": {
    "scrolled": true
   },
   "outputs": [
    {
     "name": "stdout",
     "output_type": "stream",
     "text": [
      "[2, 4, 6]\n"
     ]
    }
   ],
   "source": [
    "def multiply_by2(li):\n",
    "    new_list = []\n",
    "    for item in li:\n",
    "        new_list.append(item*2)\n",
    "    return new_list\n",
    "\n",
    "print(multiply_by2([1,2,3]))\n"
   ]
  },
  {
   "cell_type": "markdown",
   "id": "925484aa",
   "metadata": {},
   "source": [
    "### Map()"
   ]
  },
  {
   "cell_type": "code",
   "execution_count": 11,
   "id": "f690b3d5",
   "metadata": {},
   "outputs": [
    {
     "name": "stdout",
     "output_type": "stream",
     "text": [
      "[2, 4, 6]\n",
      "[1, 2, 3]\n"
     ]
    }
   ],
   "source": [
    "# Map, filter, zip, and reduce\n",
    "my_list = [1,2,3]\n",
    "def multiply_by2(item):\n",
    "    return item*2\n",
    "\n",
    "print(list(map(multiply_by2, my_list)))\n",
    "\n",
    "print(my_list)\n"
   ]
  },
  {
   "cell_type": "markdown",
   "id": "bb5201d0",
   "metadata": {},
   "source": [
    "### Filter"
   ]
  },
  {
   "cell_type": "code",
   "execution_count": 19,
   "id": "77ba35e9",
   "metadata": {},
   "outputs": [
    {
     "name": "stdout",
     "output_type": "stream",
     "text": [
      "[1, 3]\n",
      "[1, 2, 3]\n"
     ]
    }
   ],
   "source": [
    "# Map, filter, zip, and reduce\n",
    "my_list = [1,2,3]\n",
    "def multiply_by2(item):\n",
    "    return item*2\n",
    "\n",
    "def only_odd(item):\n",
    "    return item % 2 != 0\n",
    "    \n",
    "print(list(filter(only_odd, my_list)))\n",
    "\n",
    "print(my_list)\n"
   ]
  },
  {
   "cell_type": "markdown",
   "id": "0721b0a3",
   "metadata": {},
   "source": [
    "### Zip"
   ]
  },
  {
   "cell_type": "code",
   "execution_count": 21,
   "id": "9da8eb42",
   "metadata": {},
   "outputs": [
    {
     "name": "stdout",
     "output_type": "stream",
     "text": [
      "[(1, 10, 5), (2, 20, 4), (3, 30, 3)]\n",
      "[1, 2, 3]\n"
     ]
    }
   ],
   "source": [
    "# Map, filter, zip, and reduce\n",
    "my_list = [1,2,3]\n",
    "your_list = [10,20,30]\n",
    "their_list = (5,4,3)\n",
    "def multiply_by2(item):\n",
    "    return item*2\n",
    "\n",
    "def only_odd(item):\n",
    "    return item % 2 != 0\n",
    "    \n",
    "print(list(zip(my_list, your_list, their_list)))\n",
    "\n",
    "print(my_list)\n"
   ]
  },
  {
   "cell_type": "markdown",
   "id": "9fb5b3bd",
   "metadata": {},
   "source": [
    "### Reduce"
   ]
  },
  {
   "cell_type": "code",
   "execution_count": 32,
   "id": "eb1266b8",
   "metadata": {},
   "outputs": [
    {
     "name": "stdout",
     "output_type": "stream",
     "text": [
      "10 1\n",
      "11 2\n",
      "13 3\n",
      "16\n",
      "[1, 2, 3]\n"
     ]
    }
   ],
   "source": [
    "# Map, filter, zip, and reduce\n",
    "from functools import reduce\n",
    "\n",
    "my_list = [1,2,3]\n",
    "\n",
    "def multiply_by2(item):\n",
    "    return item*2\n",
    "\n",
    "def only_odd(item):\n",
    "    return item % 2 != 0\n",
    "    \n",
    "def accumulator(acc, item):\n",
    "    print(acc, item)\n",
    "    return acc + item\n",
    "\n",
    "print(reduce(accumulator, my_list, 10))\n",
    "\n",
    "print(my_list)\n"
   ]
  },
  {
   "cell_type": "markdown",
   "id": "c5b73cad",
   "metadata": {},
   "source": [
    "### Lambda Expressions"
   ]
  },
  {
   "cell_type": "code",
   "execution_count": 38,
   "id": "c4e12c23",
   "metadata": {},
   "outputs": [
    {
     "name": "stdout",
     "output_type": "stream",
     "text": [
      "6\n",
      "[1, 2, 3]\n"
     ]
    }
   ],
   "source": [
    "# Map, filter, zip, and reduce\n",
    "from functools import reduce\n",
    "\n",
    "\n",
    "lambda param: action(param)\n",
    "\n",
    "my_list = [1,2,3]\n",
    "\n",
    "lambda param: action(param)\n",
    "\n",
    "# def only_odd(item):\n",
    "    \n",
    "# def accumulator(acc, item):\n",
    "#     print(acc, item)\n",
    "#     return acc + item\n",
    "\n",
    "print(reduce(lambda acc, item: acc+item, my_list))\n",
    "\n",
    "print(my_list)\n"
   ]
  },
  {
   "cell_type": "markdown",
   "id": "7a34bec1",
   "metadata": {},
   "source": [
    "### Excercise Lambda Expressions"
   ]
  },
  {
   "cell_type": "code",
   "execution_count": 47,
   "id": "955e689a",
   "metadata": {},
   "outputs": [
    {
     "name": "stdout",
     "output_type": "stream",
     "text": [
      "[10, 8, 6]\n",
      "<function <lambda> at 0x000002B4A4F27160>\n",
      "[(0, 2), (4, 3), (9, 9), (10, -1)]\n"
     ]
    }
   ],
   "source": [
    "my_list = [5,4,3]\n",
    "\n",
    "\n",
    "new_list = list(map(lambda num: num*2, my_list))\n",
    "print(new_list)\n",
    "# List Sorting\n",
    "a = [(0,2), (4,3), (10, -1), (9,9)]\n",
    "a.sort(key=lambda x: x[0])\n",
    "print(lambda x:x[0])\n",
    "print(a)\n",
    "\n"
   ]
  },
  {
   "cell_type": "markdown",
   "id": "b7dc4625",
   "metadata": {},
   "source": [
    "### Comprehensions\n",
    "List, set, dictionarty"
   ]
  },
  {
   "cell_type": "code",
   "execution_count": 74,
   "id": "bd3fb81f",
   "metadata": {},
   "outputs": [
    {
     "name": "stdout",
     "output_type": "stream",
     "text": [
      "['h', 'e', 'l', 'l', 'o']\n",
      "{'l', 'e', 'o', 'h'}\n",
      "{1: 2, 2: 4, 3: 6}\n"
     ]
    }
   ],
   "source": [
    "# List\n",
    "my_list = [char for char in 'hello']\n",
    "my_list2 = [num for num in range(0,100)]\n",
    "my_list3 = [num*2 for num in range(0,100)]\n",
    "my_list4 = [num**2 for num in range(0,100) if num % 2 == 0]\n",
    "print(my_list)\n",
    "\n",
    "# Set\n",
    "my_set = {char for char in 'hello'}\n",
    "\n",
    "print(my_set)\n",
    "\n",
    "#  Dict\n",
    "simple_dict = {\n",
    "    'a':1,\n",
    "    'b':2\n",
    "}\n",
    "# my_dict = {k:v**2 for k,v in simple_dict.items() if v%2==0}\n",
    "my_dict = {num:num*2 for num in [1,2,3]}\n",
    "print(my_dict)\n"
   ]
  },
  {
   "cell_type": "markdown",
   "id": "27b9198f",
   "metadata": {},
   "source": [
    "### Excercise Comprehensions"
   ]
  },
  {
   "cell_type": "code",
   "execution_count": 85,
   "id": "a2191283",
   "metadata": {},
   "outputs": [
    {
     "name": "stdout",
     "output_type": "stream",
     "text": [
      "['b', 'n']\n"
     ]
    }
   ],
   "source": [
    "some_list = ['a', 'b', 'c', 'b', 'd', 'm', 'n', 'n']\n",
    "\n",
    "# duplicates = []\n",
    "# for value in some_list:\n",
    "#     if some_list.count(value)>1:\n",
    "#         if value not in duplicates:\n",
    "#             duplicates.append(value)\n",
    "            \n",
    "# print(duplicates)\n",
    "\n",
    "duplicates = list(set([x for x in some_list if some_list.count(x) > 1]))\n",
    "print(duplicates)"
   ]
  },
  {
   "cell_type": "code",
   "execution_count": null,
   "id": "c44b4b93",
   "metadata": {},
   "outputs": [],
   "source": []
  }
 ],
 "metadata": {
  "kernelspec": {
   "display_name": "Python 3 (ipykernel)",
   "language": "python",
   "name": "python3"
  },
  "language_info": {
   "codemirror_mode": {
    "name": "ipython",
    "version": 3
   },
   "file_extension": ".py",
   "mimetype": "text/x-python",
   "name": "python",
   "nbconvert_exporter": "python",
   "pygments_lexer": "ipython3",
   "version": "3.9.7"
  }
 },
 "nbformat": 4,
 "nbformat_minor": 5
}
