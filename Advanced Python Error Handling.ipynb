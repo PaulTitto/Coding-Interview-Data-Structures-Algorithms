{
 "cells": [
  {
   "cell_type": "markdown",
   "id": "4998c5f5",
   "metadata": {},
   "source": [
    "### Error in Python"
   ]
  },
  {
   "cell_type": "code",
   "execution_count": 9,
   "id": "ffd7c95a",
   "metadata": {},
   "outputs": [],
   "source": [
    "# Error Handling\n",
    "def hooo(num):\n",
    "    5/num\n",
    "    \n",
    "hooooo(2)"
   ]
  },
  {
   "cell_type": "markdown",
   "id": "8803aa1e",
   "metadata": {},
   "source": [
    "### Error Handling"
   ]
  },
  {
   "cell_type": "code",
   "execution_count": null,
   "id": "6832bfe2",
   "metadata": {},
   "outputs": [],
   "source": [
    "# Error Handling\n",
    "\n",
    "while True:\n",
    "    try:\n",
    "        age = int(input('what is your age?'))\n",
    "        print(age)\n",
    "    except ValueError:\n",
    "        print('please enter a number')\n",
    "    except ZeroDivisionError:\n",
    "        print('please enter age higher than 0')\n",
    "    else:\n",
    "        print('thank you')\n",
    "        break"
   ]
  },
  {
   "cell_type": "markdown",
   "id": "1e39c428",
   "metadata": {},
   "source": [
    "### Error Handling 2"
   ]
  },
  {
   "cell_type": "code",
   "execution_count": null,
   "id": "13c4ebb0",
   "metadata": {},
   "outputs": [],
   "source": [
    "def sum(num1, num2):\n",
    "    try:\n",
    "        return num1 + num2\n",
    "    except (TypeError, ZeroDivisionError) as err:\n",
    "        print(f'{err}')\n",
    "        \n",
    "        \n",
    "print(sum('1', 2))"
   ]
  },
  {
   "cell_type": "markdown",
   "id": "e565b5a2",
   "metadata": {},
   "source": [
    "### Exercises Error Handling"
   ]
  },
  {
   "cell_type": "code",
   "execution_count": null,
   "id": "b56de92e",
   "metadata": {},
   "outputs": [],
   "source": [
    "# Error Handling\n",
    "\n",
    "while True:\n",
    "    try:\n",
    "        age = int(input('what is your age?'))\n",
    "        print(age)\n",
    "    except ValueError:\n",
    "        print('please enter a number')\n",
    "        continue\n",
    "    except ZeroDivisionError:\n",
    "        print('please enter age higher than 0')\n",
    "        break\n",
    "    else:\n",
    "        print('thank you')\n",
    "        break\n",
    "    finally:\n",
    "        print('ok, i am finnaly done')\n",
    "    print('can you near me')"
   ]
  },
  {
   "cell_type": "markdown",
   "id": "4f5a6ee9",
   "metadata": {},
   "source": [
    "### Error Handling 3"
   ]
  },
  {
   "cell_type": "code",
   "execution_count": null,
   "id": "b6d6c08f",
   "metadata": {},
   "outputs": [],
   "source": [
    "# Error Handling\n",
    "\n",
    "while True:\n",
    "    try:\n",
    "        age = int(input('what is your age?'))\n",
    "        10/age\n",
    "        raise Exception('hey cut it out')\n",
    "    except ZeroDivisionError:\n",
    "        print('please enter age higher than 0')\n",
    "        break\n",
    "    else:\n",
    "        print('thank you')\n",
    "        break\n",
    "    finally:\n",
    "        print('ok, i am finnaly done')\n",
    "    print('can you near me')"
   ]
  }
 ],
 "metadata": {
  "kernelspec": {
   "display_name": "Python 3 (ipykernel)",
   "language": "python",
   "name": "python3"
  },
  "language_info": {
   "codemirror_mode": {
    "name": "ipython",
    "version": 3
   },
   "file_extension": ".py",
   "mimetype": "text/x-python",
   "name": "python",
   "nbconvert_exporter": "python",
   "pygments_lexer": "ipython3",
   "version": "3.9.7"
  }
 },
 "nbformat": 4,
 "nbformat_minor": 5
}
