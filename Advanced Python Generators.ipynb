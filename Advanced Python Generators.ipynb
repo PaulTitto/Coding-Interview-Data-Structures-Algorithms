{
 "cells": [
  {
   "cell_type": "markdown",
   "id": "8597017f",
   "metadata": {},
   "source": [
    "### Generators"
   ]
  },
  {
   "cell_type": "code",
   "execution_count": 2,
   "id": "ffa9fd29",
   "metadata": {},
   "outputs": [
    {
     "name": "stdout",
     "output_type": "stream",
     "text": [
      "[0, 2, 4, 6, 8, 10, 12, 14, 16, 18, 20, 22, 24, 26, 28, 30, 32, 34, 36, 38, 40, 42, 44, 46, 48, 50, 52, 54, 56, 58, 60, 62, 64, 66, 68, 70, 72, 74, 76, 78, 80, 82, 84, 86, 88, 90, 92, 94, 96, 98, 100, 102, 104, 106, 108, 110, 112, 114, 116, 118, 120, 122, 124, 126, 128, 130, 132, 134, 136, 138, 140, 142, 144, 146, 148, 150, 152, 154, 156, 158, 160, 162, 164, 166, 168, 170, 172, 174, 176, 178, 180, 182, 184, 186, 188, 190, 192, 194, 196, 198]\n"
     ]
    }
   ],
   "source": [
    "def make_list(num):\n",
    "    result = []\n",
    "    for i in range(num):\n",
    "        result.append(i*2)\n",
    "    return result\n",
    "\n",
    "my_list = make_list(100)\n",
    "print(my_list)\n",
    "# print(list(range(100000)))"
   ]
  },
  {
   "cell_type": "markdown",
   "id": "bb905a2b",
   "metadata": {},
   "source": [
    "### Generators 2"
   ]
  },
  {
   "cell_type": "code",
   "execution_count": 9,
   "id": "ea24a695",
   "metadata": {},
   "outputs": [
    {
     "name": "stdout",
     "output_type": "stream",
     "text": [
      "4\n"
     ]
    }
   ],
   "source": [
    "# Interable\n",
    "# iterate\n",
    "# generators\n",
    "\n",
    "# range() # is Generators\n",
    "# list() # is interable\n",
    "\n",
    "def generator_function(num):\n",
    "    for i in range(num):\n",
    "        yield i*2\n",
    "        \n",
    "g = generator_function(100)\n",
    "next(g)\n",
    "next(g)\n",
    "print(next(g))\n",
    "        \n",
    "# for item in generator_function(10):\n",
    "#     print(item)\n"
   ]
  },
  {
   "cell_type": "markdown",
   "id": "232be7b0",
   "metadata": {},
   "source": [
    "### Generators Performance"
   ]
  },
  {
   "cell_type": "code",
   "execution_count": 14,
   "id": "30f1e69f",
   "metadata": {},
   "outputs": [
    {
     "name": "stdout",
     "output_type": "stream",
     "text": [
      "0\n",
      "1\n",
      "2\n",
      "3\n",
      "4\n",
      "5\n",
      "6\n",
      "7\n",
      "8\n",
      "9\n"
     ]
    }
   ],
   "source": [
    "def gen_fun(num):\n",
    "    for i in range(num):\n",
    "        yield i\n",
    "        \n",
    "for item in gen_fun(10):\n",
    "    print(item)"
   ]
  },
  {
   "cell_type": "markdown",
   "id": "7b378162",
   "metadata": {},
   "source": [
    "### Under The Hood Of Generators"
   ]
  },
  {
   "cell_type": "code",
   "execution_count": 16,
   "id": "995ed908",
   "metadata": {},
   "outputs": [
    {
     "name": "stdout",
     "output_type": "stream",
     "text": [
      "<list_iterator object at 0x0000026739D34BE0>\n",
      "1\n",
      "<list_iterator object at 0x0000026739D34BE0>\n",
      "2\n",
      "<list_iterator object at 0x0000026739D34BE0>\n",
      "3\n",
      "<list_iterator object at 0x0000026739D34BE0>\n"
     ]
    }
   ],
   "source": [
    "def special_for(iterable):\n",
    "    iterator = iter(iterable)\n",
    "    while True:\n",
    "        try:\n",
    "            print(iterator)\n",
    "            print(next(iterator))\n",
    "        except StopIteration:\n",
    "            break\n",
    "            \n",
    "special_for([1,2,3])"
   ]
  },
  {
   "cell_type": "code",
   "execution_count": 21,
   "id": "ab0d4c53",
   "metadata": {},
   "outputs": [
    {
     "name": "stdout",
     "output_type": "stream",
     "text": [
      "0\n",
      "1\n",
      "2\n",
      "3\n",
      "4\n",
      "5\n",
      "6\n",
      "7\n",
      "8\n",
      "9\n"
     ]
    }
   ],
   "source": [
    "class myGen():\n",
    "    current = 0\n",
    "    def __init__(self, first, last):\n",
    "        self.first = first\n",
    "        self.last = last\n",
    "        \n",
    "    def __iter__(self):\n",
    "        return self\n",
    "    \n",
    "    def __next__(self):\n",
    "        if myGen.current < self.last:\n",
    "            num = myGen.current\n",
    "            myGen.current += 1\n",
    "            return num\n",
    "        raise StopIteration\n",
    "        \n",
    "gen = myGen(0,10)\n",
    "\n",
    "for i in gen:\n",
    "    print(i)"
   ]
  },
  {
   "cell_type": "markdown",
   "id": "649ee059",
   "metadata": {},
   "source": [
    "### Excercise Fibonacci Numbers"
   ]
  },
  {
   "cell_type": "code",
   "execution_count": 27,
   "id": "b46f6b8a",
   "metadata": {},
   "outputs": [
    {
     "name": "stdout",
     "output_type": "stream",
     "text": [
      "[0, 1, 1, 2, 3, 5, 8, 13, 21, 34]\n"
     ]
    }
   ],
   "source": [
    "def fib(number):\n",
    "    a = 0\n",
    "    b = 1\n",
    "    for i in range(number):\n",
    "        yield a\n",
    "        temp = a\n",
    "        a = b\n",
    "        b = temp + b\n",
    "        \n",
    "# for x in fib(21):\n",
    "#     print(x)\n",
    "    \n",
    "    \n",
    "def fib2(number):\n",
    "    a = 0\n",
    "    b = 1\n",
    "    result = []\n",
    "    for i in range(number):\n",
    "        result.append(a)\n",
    "        temp = a\n",
    "        a = b\n",
    "        b = temp + b\n",
    "        \n",
    "    return result\n",
    "\n",
    "print(fib2(10))"
   ]
  },
  {
   "cell_type": "code",
   "execution_count": null,
   "id": "9bd92036",
   "metadata": {},
   "outputs": [],
   "source": []
  }
 ],
 "metadata": {
  "kernelspec": {
   "display_name": "Python 3 (ipykernel)",
   "language": "python",
   "name": "python3"
  },
  "language_info": {
   "codemirror_mode": {
    "name": "ipython",
    "version": 3
   },
   "file_extension": ".py",
   "mimetype": "text/x-python",
   "name": "python",
   "nbconvert_exporter": "python",
   "pygments_lexer": "ipython3",
   "version": "3.9.7"
  }
 },
 "nbformat": 4,
 "nbformat_minor": 5
}
