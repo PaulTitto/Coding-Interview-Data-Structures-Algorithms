{
 "cells": [
  {
   "cell_type": "markdown",
   "id": "0fd77c5f",
   "metadata": {},
   "source": [
    "## How to Solve Problems\n",
    "\n",
    "### What Are Companies Looking For?\n",
    "* 1. ***Analytic Skills*** - How can you think through problems and analyze things? \n",
    "* 2. ***Coding Skills*** - Do you code well, by writing clean, simple, organized, readable code? \n",
    "* 3. ***Technical knowledge*** - Do you know the fundamentals of the job you're applying for? \n",
    "* 4. ***Communication skills*** - Does your personality match the companies’ culture? "
   ]
  },
  {
   "cell_type": "markdown",
   "id": "251a91f7",
   "metadata": {},
   "source": [
    "### What We Need For Coding Inteviews?\n",
    "\n",
    "> ***Data Structures*** => Arrays, Trees, Stacks, Tries, Queues, Graphs, Linked List, Hash Tables\n",
    "\n",
    "> ***Algorithms*** => Sorting, Dynamic Programing, BFS + DFS(Searching), Recursion"
   ]
  },
  {
   "cell_type": "markdown",
   "id": "7f40dc66",
   "metadata": {},
   "source": [
    "### 3 Pillars Of Programming \n",
    "* ***Readable***\n",
    "* ***Space Complexity***\n",
    "* ***Time Complexity***\n"
   ]
  },
  {
   "cell_type": "markdown",
   "id": "7bf68be9",
   "metadata": {},
   "source": [
    "## Step By Step through a problem:\n",
    "* 1. When the interviewer says the question, write down the key points at the top (i.e. sorted1. array). Make sure you have all the details. Show how organized you are.\n",
    "* 2.Make sure you double check: What are the inputs? What are the outputs?\n",
    "* 3.What is the most important value of the problem? Do you have time, and space and memory, etc.. What is the main goal?\n",
    "* 4.Don't be annoying and ask too many questions.\n",
    "* 5.Start with the naive/brute force approach. First thing that comes into mind. It shows that you’re able to think well and critically (you don't need to write this code, just speak about it).\n",
    "* 6.Tell them why this approach is not the best (i.e. O(n^2) or higher, not readable, etc...)\n",
    "* 7. Walk through your approach, comment things and see where you may be able to break things. Any repetition, bottlenecks like O(N^2), or unnecessary work? Did you use all the information the interviewer gave you? Bottleneck is the part of the code with the biggest Big O. Focus on that. Sometimes this occurs with repeated work as well.\n",
    "* 8. Before you start coding, walk through your code and write down the steps you are going to follow.\n",
    "* 9. Modularize your code from the very beginning. Break up your code into beautiful small pieces. and add just comments if you need to.\n",
    "* 10. Start actually writing your code now. Keep in mind that the more you prepare and understand. what you need to code, the better the whiteboard will go. So never start a whiteboard interview not being sure of how things are going to work out. That is a recipe for disaster. Keep in mind: A lot of interviews ask questions that you won’t be able to fully answer on time. So think: What can I show in order to show that I can do this and I am better than other coders. Break things up in Functions (if you can’t remember a method, just make up a function and you will at least have it there. Write something, and start with the easy part.\n",
    "* 11. Think about error checks and how you can break this code. Never make assumptions about the. input. Assume people are trying to break your code and that Darth Vader is using your function. How will you safeguard it? Always check for false inputs that you don’t want. Here is a trick: Comment in the code, the checks that you want to do… write the function, then tell the interviewer that you would write tests now to make your function fail (but you won't need to actually write the tests).\n",
    "* 12. Don’t use bad/confusing names like i and j. Write code that reads well.\n",
    "* 13.Test your code: Check for no params, 0, undefined, null, massive arrays, async code, etc… Ask. the interviewer if we can make assumption about the code. Can you make the answer return an error? Poke holes into your solution. Are you repeating yourself?\n",
    "* 14. Finally talk to the interviewer where you would improve the code. Does it work? Are there different approaches? Is it readable? What would you google to improve? How can performance be improved? Possibly: Ask the interviewer what was the most interesting solution you have seen to this problem\n",
    "* 15. If your interviewer is happy with the solution, the interview usually ends here. It is also common that the interviewer asks you extension questions, such as how you would handle the problem if the whole input is too large to fit into memory, or if the input arrives as a stream. This is a common follow-up question at Google, where they care a lot about scale. The answer is usually a divide-and-conquer approach — perform distributed processing of the data and only read certain chunks of the input from disk into memory, write the output back to disk and combine them later."
   ]
  },
  {
   "cell_type": "markdown",
   "id": "48c52c12",
   "metadata": {},
   "source": [
    "### Google Interview"
   ]
  },
  {
   "cell_type": "code",
   "execution_count": 42,
   "id": "ad21011a",
   "metadata": {},
   "outputs": [],
   "source": [
    "# We are given two arrays. We have to find if these two arrays contain any matching elements.\n",
    "# For example, array1 = ['a','b','c','x'] , array2 = ['x','y','z']\n",
    "# This should return True as element 'x' appears in both arrays.\n",
    "\n",
    "# Now, the very first solution that comes to mind is the naive, or brute force solution.\n",
    "# So let's code that down.\n",
    "\n",
    "array1 = [\"a\", \"b\", \"c\", \"x\"]\n",
    "array2 = [\"z\", \"y\", \"d\"]"
   ]
  },
  {
   "cell_type": "markdown",
   "id": "0c4ad6ab",
   "metadata": {},
   "source": [
    "#### Solution1"
   ]
  },
  {
   "cell_type": "code",
   "execution_count": 33,
   "id": "dcb0a932",
   "metadata": {},
   "outputs": [
    {
     "data": {
      "text/plain": [
       "False"
      ]
     },
     "execution_count": 33,
     "metadata": {},
     "output_type": "execute_result"
    }
   ],
   "source": [
    "def containsCommonItem(array1, array2):\n",
    "    for i in range(0, len(array1)):\n",
    "        for j in range(0, len(array2)):\n",
    "            if array1[i] == array2[j]:\n",
    "                return True\n",
    "    return False\n",
    "# 0(n^2)\n",
    "\n",
    "containsCommonItem(array1, array2)"
   ]
  },
  {
   "cell_type": "markdown",
   "id": "21256076",
   "metadata": {},
   "source": [
    "#### Solution 2"
   ]
  },
  {
   "cell_type": "code",
   "execution_count": 35,
   "id": "e085b2a7",
   "metadata": {},
   "outputs": [
    {
     "data": {
      "text/plain": [
       "False"
      ]
     },
     "execution_count": 35,
     "metadata": {},
     "output_type": "execute_result"
    }
   ],
   "source": [
    "def constainsCommonItem2(array1, array2):\n",
    "    dictionary = dict()\n",
    "    for i in range(len(array1)):\n",
    "        dictionary[array1[i]] = True\n",
    "    \n",
    "    for j in range(len(array2)):\n",
    "        if array2[j] in dictionary:\n",
    "            return True\n",
    "    return False\n",
    "\n",
    "constainsCommonItem2(array1, array2)\n",
    "\n",
    "# 0(a + b)"
   ]
  },
  {
   "cell_type": "markdown",
   "id": "631aca8e",
   "metadata": {},
   "source": [
    "#### Solution 3"
   ]
  },
  {
   "cell_type": "code",
   "execution_count": 40,
   "id": "023a3b01",
   "metadata": {},
   "outputs": [],
   "source": [
    "def containsCommonItem3(array1, array2):\n",
    "    try:\n",
    "        dictionary = dict()\n",
    "        for i in range(len(array1)):\n",
    "            if array1[i] not in dictionary:\n",
    "                dictionary[array1[i]] = True\n",
    "    \n",
    "        for j in range(len(array2)):\n",
    "            if array2[j] in dictionary:\n",
    "                return True\n",
    "        return False\n",
    "    \n",
    "    except TypeError:\n",
    "        return \"Exactly two arrays required.\""
   ]
  }
 ],
 "metadata": {
  "kernelspec": {
   "display_name": "Python 3 (ipykernel)",
   "language": "python",
   "name": "python3"
  },
  "language_info": {
   "codemirror_mode": {
    "name": "ipython",
    "version": 3
   },
   "file_extension": ".py",
   "mimetype": "text/x-python",
   "name": "python",
   "nbconvert_exporter": "python",
   "pygments_lexer": "ipython3",
   "version": "3.8.12"
  }
 },
 "nbformat": 4,
 "nbformat_minor": 5
}
