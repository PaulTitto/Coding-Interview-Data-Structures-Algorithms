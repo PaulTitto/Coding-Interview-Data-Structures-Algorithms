{
 "cells": [
  {
   "cell_type": "code",
   "execution_count": null,
   "id": "1db701d9",
   "metadata": {},
   "outputs": [],
   "source": [
    "def mergeSortedArrays(array1, array2):\n",
    "    new_array = []\n",
    "    flag = 0\n",
    "    first_array_index = second_array_index = 0\n",
    "    \n",
    "    while not (first_array_index >= len(array1) or second_array_index>=len(array2)):\n",
    "        if array1[first_array_index] <= array2[second_array_index]:\n",
    "            new_array.append(array1[first_array_index])\n",
    "            first_array_index +=1\n",
    "        else:\n",
    "            new_array.append(array2[second_array_index])\n",
    "            second_array_index +=1\n",
    "            \n",
    "        if first_array_index==len(array1):\n",
    "            flag = 1\n",
    "            \n",
    "            \n",
    "    if flag == 1:\n",
    "        for item in array2[second_array_index:]:\n",
    "            new_array.append(item)\n",
    "    else:\n",
    "        for item in array1[first_array_index]:\n",
    "            new_array.append(item)\n",
    "    \n",
    "    \n",
    "    return new_array\n",
    "    \n",
    "\n",
    "array1 = [0,3,4,31]\n",
    "array2 = [4,6,30]\n",
    "mergeSortedArrays(array1, array2)"
   ]
  },
  {
   "cell_type": "code",
   "execution_count": null,
   "id": "641d0789",
   "metadata": {},
   "outputs": [],
   "source": []
  }
 ],
 "metadata": {
  "kernelspec": {
   "display_name": "Python 3 (ipykernel)",
   "language": "python",
   "name": "python3"
  },
  "language_info": {
   "codemirror_mode": {
    "name": "ipython",
    "version": 3
   },
   "file_extension": ".py",
   "mimetype": "text/x-python",
   "name": "python",
   "nbconvert_exporter": "python",
   "pygments_lexer": "ipython3",
   "version": "3.9.7"
  }
 },
 "nbformat": 4,
 "nbformat_minor": 5
}
