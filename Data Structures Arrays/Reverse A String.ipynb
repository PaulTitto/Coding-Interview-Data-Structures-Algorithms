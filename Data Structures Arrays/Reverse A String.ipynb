{
 "cells": [
  {
   "cell_type": "code",
   "execution_count": 36,
   "id": "c15d3bd6",
   "metadata": {},
   "outputs": [
    {
     "data": {
      "text/plain": [
       "'luaP si eman yM iH'"
      ]
     },
     "execution_count": 36,
     "metadata": {},
     "output_type": "execute_result"
    }
   ],
   "source": [
    "string = \"Paul\"\n",
    "\n",
    "def reverse(string):\n",
    "    backward = []\n",
    "    for i in range(len(string)-1, -1, -1):\n",
    "        backward.append(string[i])\n",
    "    return ''.join(backward)\n",
    "    \n",
    "reverse(string)"
   ]
  },
  {
   "cell_type": "code",
   "execution_count": 51,
   "id": "61b42e94",
   "metadata": {},
   "outputs": [
    {
     "data": {
      "text/plain": [
       "'luaP si eman yM iH'"
      ]
     },
     "execution_count": 51,
     "metadata": {},
     "output_type": "execute_result"
    }
   ],
   "source": [
    "def swap(string, a, b):\n",
    "    string = list(string)\n",
    "    temp = string[a]\n",
    "    string[a] = string[b]\n",
    "    string[b] = temp\n",
    "    return \"\".join(string)\n",
    "\n",
    "def smarter_reverse(string):\n",
    "    for i in range(len(string)//2):\n",
    "        string = swap(string, i, len(string)-i-1)\n",
    "    return string\n",
    "\n",
    "\n",
    "smarter_reverse(string)"
   ]
  },
  {
   "cell_type": "code",
   "execution_count": 38,
   "id": "f41d266b",
   "metadata": {},
   "outputs": [
    {
     "name": "stdout",
     "output_type": "stream",
     "text": [
      "edcba\n",
      "edcba\n"
     ]
    }
   ],
   "source": [
    "string1 = 'abcde'\n",
    "string2 = reversed(string1)\n",
    "print(''.join(string2))\n",
    "\n",
    "\n",
    "list1 = list(string1)\n",
    "list1.reverse()\n",
    "print(''.join(list1))"
   ]
  },
  {
   "cell_type": "code",
   "execution_count": 46,
   "id": "f830cc25",
   "metadata": {},
   "outputs": [
    {
     "name": "stdout",
     "output_type": "stream",
     "text": [
      "0\n",
      "1\n"
     ]
    }
   ],
   "source": [
    "for i in range(len(string1)//2):\n",
    "    print(i)"
   ]
  },
  {
   "cell_type": "code",
   "execution_count": 43,
   "id": "5ecd3880",
   "metadata": {},
   "outputs": [
    {
     "data": {
      "text/plain": [
       "2"
      ]
     },
     "execution_count": 43,
     "metadata": {},
     "output_type": "execute_result"
    }
   ],
   "source": [
    "len('abcde')//2"
   ]
  },
  {
   "cell_type": "code",
   "execution_count": null,
   "id": "91efab35",
   "metadata": {},
   "outputs": [],
   "source": []
  }
 ],
 "metadata": {
  "kernelspec": {
   "display_name": "Python 3 (ipykernel)",
   "language": "python",
   "name": "python3"
  },
  "language_info": {
   "codemirror_mode": {
    "name": "ipython",
    "version": 3
   },
   "file_extension": ".py",
   "mimetype": "text/x-python",
   "name": "python",
   "nbconvert_exporter": "python",
   "pygments_lexer": "ipython3",
   "version": "3.9.7"
  }
 },
 "nbformat": 4,
 "nbformat_minor": 5
}
