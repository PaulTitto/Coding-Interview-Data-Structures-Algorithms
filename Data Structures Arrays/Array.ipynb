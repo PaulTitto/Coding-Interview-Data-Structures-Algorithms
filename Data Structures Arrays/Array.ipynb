{
 "cells": [
  {
   "cell_type": "markdown",
   "id": "c1442df0",
   "metadata": {},
   "source": [
    "## Introduction"
   ]
  },
  {
   "cell_type": "code",
   "execution_count": 1,
   "id": "be47643e",
   "metadata": {},
   "outputs": [],
   "source": [
    "strings = [\"a\", \"b\", \"c\", \"d\"]\n",
    "# 4*4 = 16 bytes of storage"
   ]
  },
  {
   "cell_type": "code",
   "execution_count": 9,
   "id": "2fea8805",
   "metadata": {},
   "outputs": [
    {
     "name": "stdout",
     "output_type": "stream",
     "text": [
      "['a', 'b', 'c', 'd', 'e', 'e']\n"
     ]
    }
   ],
   "source": [
    "# Push\n",
    "strings.append('e')\n",
    "print(strings)"
   ]
  },
  {
   "cell_type": "code",
   "execution_count": 10,
   "id": "1330fc9a",
   "metadata": {},
   "outputs": [
    {
     "name": "stdout",
     "output_type": "stream",
     "text": [
      "['a', 'b', 'c', 'd', 'e']\n"
     ]
    }
   ],
   "source": [
    "# Pop\n",
    "strings.pop()\n",
    "print(strings)"
   ]
  },
  {
   "cell_type": "code",
   "execution_count": 13,
   "id": "01b9e392",
   "metadata": {},
   "outputs": [
    {
     "name": "stdout",
     "output_type": "stream",
     "text": [
      "['x', 'a', 'b', 'c', 'd', 'e']\n"
     ]
    }
   ],
   "source": [
    "# Unshift\n",
    "strings.insert(0, \"x\")\n",
    "print(strings)"
   ]
  },
  {
   "cell_type": "code",
   "execution_count": 18,
   "id": "9f7656b7",
   "metadata": {},
   "outputs": [
    {
     "name": "stdout",
     "output_type": "stream",
     "text": [
      "['b', 'c', 'd', 'e']\n"
     ]
    }
   ],
   "source": [
    "# Splice\n",
    "strings.pop(0)\n",
    "print(strings)"
   ]
  },
  {
   "cell_type": "code",
   "execution_count": 20,
   "id": "e6a5f2c8",
   "metadata": {},
   "outputs": [
    {
     "name": "stdout",
     "output_type": "stream",
     "text": [
      "['c', 'd', 'e']\n"
     ]
    }
   ],
   "source": [
    "strings.remove('b')\n",
    "print(strings)"
   ]
  },
  {
   "cell_type": "markdown",
   "id": "42f40486",
   "metadata": {},
   "source": [
    "### Optional Classes in Python"
   ]
  },
  {
   "cell_type": "code",
   "execution_count": 1,
   "id": "0af28de7",
   "metadata": {},
   "outputs": [
    {
     "data": {
      "text/plain": [
       "True"
      ]
     },
     "execution_count": 1,
     "metadata": {},
     "output_type": "execute_result"
    }
   ],
   "source": [
    "object1 = {\"value\": 10}\n",
    "object2 = object1\n",
    "object3 = {\"value\": 10}\n",
    "\n",
    "object1 == object2"
   ]
  },
  {
   "cell_type": "code",
   "execution_count": 2,
   "id": "41dff380",
   "metadata": {},
   "outputs": [
    {
     "data": {
      "text/plain": [
       "True"
      ]
     },
     "execution_count": 2,
     "metadata": {},
     "output_type": "execute_result"
    }
   ],
   "source": [
    "object1 == object3"
   ]
  },
  {
   "cell_type": "code",
   "execution_count": 5,
   "id": "53d23189",
   "metadata": {},
   "outputs": [
    {
     "data": {
      "text/plain": [
       "True"
      ]
     },
     "execution_count": 5,
     "metadata": {},
     "output_type": "execute_result"
    }
   ],
   "source": [
    "object2 == object3"
   ]
  },
  {
   "cell_type": "code",
   "execution_count": 10,
   "id": "f3f8078f",
   "metadata": {},
   "outputs": [
    {
     "data": {
      "text/plain": [
       "dict_values([10])"
      ]
     },
     "execution_count": 10,
     "metadata": {},
     "output_type": "execute_result"
    }
   ],
   "source": [
    "object1.values()"
   ]
  },
  {
   "cell_type": "code",
   "execution_count": 14,
   "id": "936821c4",
   "metadata": {},
   "outputs": [],
   "source": [
    "class Player():\n",
    "    def contructor(name, type):\n",
    "        self.name = name\n",
    "        self.type = type\n",
    "        \n",
    "    def intruduce():\n",
    "        print(f\"Hi i am {self.name}, i'm a {self.type}\")\n",
    "        \n"
   ]
  },
  {
   "cell_type": "code",
   "execution_count": null,
   "id": "6ededa15",
   "metadata": {},
   "outputs": [],
   "source": []
  }
 ],
 "metadata": {
  "kernelspec": {
   "display_name": "Python 3 (ipykernel)",
   "language": "python",
   "name": "python3"
  },
  "language_info": {
   "codemirror_mode": {
    "name": "ipython",
    "version": 3
   },
   "file_extension": ".py",
   "mimetype": "text/x-python",
   "name": "python",
   "nbconvert_exporter": "python",
   "pygments_lexer": "ipython3",
   "version": "3.9.7"
  }
 },
 "nbformat": 4,
 "nbformat_minor": 5
}
