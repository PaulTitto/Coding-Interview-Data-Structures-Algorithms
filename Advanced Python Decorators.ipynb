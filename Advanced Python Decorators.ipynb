{
 "cells": [
  {
   "cell_type": "markdown",
   "id": "3cd3463d",
   "metadata": {},
   "source": [
    "### Decorators"
   ]
  },
  {
   "cell_type": "code",
   "execution_count": 7,
   "id": "d27f010d",
   "metadata": {},
   "outputs": [
    {
     "name": "stdout",
     "output_type": "stream",
     "text": [
      "still here!\n",
      "None\n"
     ]
    }
   ],
   "source": [
    "def hello(func):\n",
    "    func()\n",
    "    \n",
    "def greet():\n",
    "    print(\"still here!\")\n",
    "\n",
    "a = hello(greet)\n",
    "print(a)"
   ]
  },
  {
   "cell_type": "markdown",
   "id": "9525ccdc",
   "metadata": {},
   "source": [
    "### Higher Order Functiopns"
   ]
  },
  {
   "cell_type": "code",
   "execution_count": 9,
   "id": "92da823b",
   "metadata": {},
   "outputs": [],
   "source": [
    "# Highet Order Function HOC\n",
    "def greet(func):\n",
    "    func()\n",
    "filter()\n",
    "def greet2():\n",
    "    def func():\n",
    "        return 5\n",
    "    return func"
   ]
  },
  {
   "cell_type": "markdown",
   "id": "d4bf5288",
   "metadata": {},
   "source": [
    "### Decorators 3"
   ]
  },
  {
   "cell_type": "code",
   "execution_count": 35,
   "id": "fe27a327",
   "metadata": {},
   "outputs": [
    {
     "name": "stdout",
     "output_type": "stream",
     "text": [
      "********\n",
      "hiiii :()\n",
      "********\n"
     ]
    }
   ],
   "source": [
    "def my_decorator(func):\n",
    "    def wrap_func(*args, **kwargs):\n",
    "        print(\"********\")\n",
    "        func(*args, **kwargs)\n",
    "        print(\"********\")\n",
    "    return wrap_func\n",
    "\n",
    "\n",
    "@my_decorator\n",
    "def hello(greeting, emoji=':()'):\n",
    "    print(greeting, emoji)\n",
    "\n",
    "    \n",
    "# hello()\n",
    "# bye()\n",
    "\n",
    "hello('hiiii')"
   ]
  },
  {
   "cell_type": "markdown",
   "id": "b8bd0c97",
   "metadata": {},
   "source": [
    "### Decorators 2"
   ]
  },
  {
   "cell_type": "code",
   "execution_count": 33,
   "id": "106023cf",
   "metadata": {},
   "outputs": [
    {
     "name": "stdout",
     "output_type": "stream",
     "text": [
      "********\n",
      "********\n",
      "hiiiii\n",
      "********\n",
      "********\n"
     ]
    }
   ],
   "source": [
    "def my_decorator(func):\n",
    "    def wrap_func(x):\n",
    "        print(\"********\")\n",
    "        func(x)\n",
    "        print(\"********\")\n",
    "    return wrap_func\n",
    "\n",
    "\n",
    "@my_decorator\n",
    "def hello(greeting):\n",
    "    print(greeting)\n",
    "\n",
    "a = my_decorator(hello)\n",
    "a('hiiiii')"
   ]
  },
  {
   "cell_type": "markdown",
   "id": "e2c633f4",
   "metadata": {},
   "source": [
    "### Why we need Decorators"
   ]
  },
  {
   "cell_type": "code",
   "execution_count": 45,
   "id": "a5893d60",
   "metadata": {},
   "outputs": [],
   "source": [
    "from time import time\n",
    "def performance(fn):\n",
    "    def wrapper(*args, **kawrgs):\n",
    "        t1 = time()\n",
    "        result = fn(*args, **kwargs)\n",
    "        t2 = time()\n",
    "        print(f'took {t2-t1} ms')\n",
    "        return result\n",
    "    return wrapper\n",
    "\n",
    "@performance\n",
    "def long_time():\n",
    "    for i in range(1000000):\n",
    "        i*5\n"
   ]
  },
  {
   "cell_type": "code",
   "execution_count": null,
   "id": "34990c23",
   "metadata": {},
   "outputs": [],
   "source": []
  }
 ],
 "metadata": {
  "kernelspec": {
   "display_name": "Python 3 (ipykernel)",
   "language": "python",
   "name": "python3"
  },
  "language_info": {
   "codemirror_mode": {
    "name": "ipython",
    "version": 3
   },
   "file_extension": ".py",
   "mimetype": "text/x-python",
   "name": "python",
   "nbconvert_exporter": "python",
   "pygments_lexer": "ipython3",
   "version": "3.9.7"
  }
 },
 "nbformat": 4,
 "nbformat_minor": 5
}
