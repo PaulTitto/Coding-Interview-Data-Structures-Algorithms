{
 "cells": [
  {
   "cell_type": "markdown",
   "id": "b68ded8b",
   "metadata": {},
   "source": [
    "## Big 0(n)"
   ]
  },
  {
   "cell_type": "code",
   "execution_count": 7,
   "id": "4acdd63c",
   "metadata": {},
   "outputs": [
    {
     "name": "stdout",
     "output_type": "stream",
     "text": [
      "----------\n",
      "Find Nemo!\n",
      "Time for search 0.0 mill\n",
      "----------\n",
      "Find Nemo!\n",
      "Time for search 0.0 mill\n",
      "----------\n",
      "Find Nemo!\n",
      "Find Nemo!\n",
      "Find Nemo!\n",
      "Find Nemo!\n",
      "Find Nemo!\n",
      "Find Nemo!\n",
      "Find Nemo!\n",
      "Find Nemo!\n",
      "Find Nemo!\n",
      "Find Nemo!\n",
      "Time for search 9.584426879882812e-05 mill\n"
     ]
    }
   ],
   "source": [
    "import time\n",
    "\n",
    "nemo = ['nemo']\n",
    "everyone = ['dory', 'bruce', 'marlin', 'nemo', 'gill', 'bloat', 'nigel', 'squirt', 'darla']\n",
    "large = ['nemo' for i in range(10)]\n",
    "\n",
    "def findNemo(array):\n",
    "    t0 = time.time()\n",
    "    for i in range(0,len(array)):\n",
    "        if array[i] == 'nemo':\n",
    "            print(\"Find Nemo!\")\n",
    "    t1 = time.time()\n",
    "    print(f\"Time for search {t1 - t0} mill\")\n",
    "    \n",
    "\n",
    "print(\"----------\")\n",
    "findNemo(nemo)\n",
    "print(\"----------\")\n",
    "findNemo(everyone)\n",
    "print(\"----------\")\n",
    "findNemo(large)"
   ]
  },
  {
   "cell_type": "markdown",
   "id": "71b8fc5f",
   "metadata": {},
   "source": [
    "## 0(1)\n",
    "*  Constant- no loops "
   ]
  },
  {
   "cell_type": "code",
   "execution_count": 1,
   "id": "a83cc079",
   "metadata": {},
   "outputs": [
    {
     "name": "stdout",
     "output_type": "stream",
     "text": [
      "0\n",
      "1\n"
     ]
    }
   ],
   "source": [
    "boxes = [0,1,2,3,4,5]\n",
    "\n",
    "def logFirstTwoboxes(boxes):\n",
    "    print(boxes[0]) # 0(1)\n",
    "    print(boxes[1]) # 0(1)\n",
    "\n",
    "logFirstTwoboxes(boxes)"
   ]
  },
  {
   "cell_type": "markdown",
   "id": "3d723a98",
   "metadata": {},
   "source": [
    "### Big 0 calculation\n"
   ]
  },
  {
   "cell_type": "code",
   "execution_count": 3,
   "id": "710255a0",
   "metadata": {},
   "outputs": [],
   "source": [
    "#  Make fun challenge\n",
    "def funchallenge(input):\n",
    "    temp = 10 #O(1)\n",
    "    temp = temp +50 #O(1)\n",
    "    for i in range(0, len(input)): #O(n)\n",
    "        var = True # O(n)\n",
    "        a ++ # O(1)\n",
    "    return a #O(1)\n",
    "\n",
    "funchal(nemo)\n",
    "# print(\"------------\")\n",
    "funchal(everyone)\n",
    "# print(\"------------\")\n",
    "funchal(large)\n"
   ]
  },
  {
   "cell_type": "markdown",
   "id": "331c76af",
   "metadata": {},
   "source": [
    "### Big 0 calculation 2"
   ]
  },
  {
   "cell_type": "code",
   "execution_count": null,
   "id": "82e43506",
   "metadata": {},
   "outputs": [],
   "source": [
    "def anotherFunCahllenge(input):\n",
    "    a = 5 # 0(1)\n",
    "    b = 10 # 0(1)\n",
    "    c = 50 # 0(1)\n",
    "    \n",
    "    for i in range(len(input)):\n",
    "        x = i + 1 # 0(n)\n",
    "        y = i + 2 # 0(n)\n",
    "        z = i + 3 # 0(n)\n",
    "        \n",
    "        for j in range(len(input)):\n",
    "            p = j * 2 # 0(n)\n",
    "            q = j * 2 # 0(n)\n",
    "            \n",
    "    whoAmI = \"I don't know\"; # 0(1)\n",
    "    \n",
    "    \n",
    "#     Big 0 = BIG 0(4+5n)\n",
    "    "
   ]
  },
  {
   "cell_type": "markdown",
   "id": "fa4a8544",
   "metadata": {},
   "source": [
    "## Big 0 Rule Book\n",
    "\n",
    "* 1. Worst Case\n",
    "* 2. Remove Constant\n",
    "* 3. Diffrent terms for inputs\n",
    "* 4. Drop non Dominants"
   ]
  },
  {
   "cell_type": "code",
   "execution_count": 9,
   "id": "c1455727",
   "metadata": {},
   "outputs": [
    {
     "name": "stdout",
     "output_type": "stream",
     "text": [
      "Running\n",
      "Running\n",
      "Running\n",
      "Running\n",
      "Find Nemo!\n",
      "Running\n",
      "Running\n",
      "Running\n",
      "Running\n",
      "Running\n"
     ]
    }
   ],
   "source": [
    "# Rule 1\n",
    "\n",
    "nemo = ['nemo']\n",
    "everyone = ['dory', 'bruce', 'marlin', 'nemo', 'gill', 'bloat', 'nigel', 'squirt', 'darla']\n",
    "\n",
    "def findNemo(array):\n",
    "    for i in range(len(array)):\n",
    "        print(\"Running\")\n",
    "        if array[i] == 'nemo':\n",
    "            print(\"Find Nemo!\")\n",
    "findNemo(everyone)\n"
   ]
  },
  {
   "cell_type": "code",
   "execution_count": 18,
   "id": "e36cc9fc",
   "metadata": {},
   "outputs": [],
   "source": [
    "import math\n",
    "# Rule 2\n",
    "\n",
    "def printFirstItemthenFirstHalfThenSahHi(items):\n",
    "#     print(items[0])\n",
    "    \n",
    "    middleIndex = math.floor(len(items) / 2 )\n",
    "    index = 0\n",
    "    \n",
    "    while index < middleIndex:\n",
    "        print(items[index])\n",
    "        index += 1\n",
    "        \n",
    "    for i in range(100):\n",
    "        print(\"hi\")\n",
    "        \n",
    "# 0(n)\n",
    "\n"
   ]
  },
  {
   "cell_type": "code",
   "execution_count": 28,
   "id": "28d0db0d",
   "metadata": {},
   "outputs": [],
   "source": [
    "# Rule 3\n",
    "\n",
    "def comppressBoxesTwice(boxes, boxes2):\n",
    "    for i in boxes2:\n",
    "        print(boxes)\n",
    "        \n",
    "    for i in boxes:\n",
    "        print(boxes)\n",
    "        \n",
    "    for i, v in enumerate(boxes):\n",
    "        function(v, i, boxes)"
   ]
  },
  {
   "cell_type": "code",
   "execution_count": 35,
   "id": "b9c33910",
   "metadata": {},
   "outputs": [
    {
     "name": "stdout",
     "output_type": "stream",
     "text": [
      "Theses are the numbers:\n",
      "1\n",
      "2\n",
      "3\n",
      "4\n",
      "5\n",
      "and These are their sums:\n",
      "2\n",
      "3\n",
      "4\n",
      "5\n",
      "6\n",
      "3\n",
      "4\n",
      "5\n",
      "6\n",
      "7\n",
      "4\n",
      "5\n",
      "6\n",
      "7\n",
      "8\n",
      "5\n",
      "6\n",
      "7\n",
      "8\n",
      "9\n",
      "6\n",
      "7\n",
      "8\n",
      "9\n",
      "10\n"
     ]
    }
   ],
   "source": [
    "# Rule 4\n",
    "\n",
    "def printAllNumberThenAllPairSum(number):\n",
    "    \n",
    "    print(\"Theses are the numbers:\") # 0(1)\n",
    "    for i, v in enumerate(number): # 0(n)\n",
    "        print(v) # 0(1)\n",
    "    \n",
    "    print(\"and These are their sums:\") # 0(1)\n",
    "    for k, firstnumber in enumerate(number): \n",
    "        for m, secondNumber in enumerate(number):\n",
    "            print(firstnumber + secondNumber) #0(1)\n",
    "    \n",
    "printAllNumberThenAllPairSum([1,2,3,4,5])\n",
    "\n",
    "0(0^2 + 4 + n)\n",
    "\n",
    "\n",
    "# if have to for loop its mean 0^2\n",
    "    "
   ]
  },
  {
   "cell_type": "markdown",
   "id": "278ef509",
   "metadata": {},
   "source": [
    "## 0(n!)\n",
    "*  Factorial- you are adding a loop for every element"
   ]
  },
  {
   "cell_type": "markdown",
   "id": "c78d1889",
   "metadata": {},
   "source": [
    "## What is Good code?\n",
    "* 1. Readable\n",
    "\n",
    "* 2. Scalable -> 1. Speed, 2.Memory\n",
    "\n",
    "### Whice code is best?\n",
    "* Readable\n",
    "* Memory (Space Complexity)\n",
    "* Speed (Time Complexity)"
   ]
  },
  {
   "cell_type": "markdown",
   "id": "17bc78f5",
   "metadata": {},
   "source": [
    "## Space Complexity\n",
    "### What causes Space complexity?\n",
    "* Variables\n",
    "* Data Structures\n",
    "* Function Call\n",
    "* Allocations"
   ]
  },
  {
   "cell_type": "code",
   "execution_count": 23,
   "id": "0abae89b",
   "metadata": {},
   "outputs": [
    {
     "name": "stdout",
     "output_type": "stream",
     "text": [
      "boooooo!\n",
      "boooooo!\n",
      "boooooo!\n",
      "boooooo!\n",
      "boooooo!\n"
     ]
    }
   ],
   "source": [
    "# Example\n",
    "def boooo(n):\n",
    "    for i in range(len(n)):\n",
    "        print(\"boooooo!\")\n",
    "        \n",
    "        \n",
    "boooo([1,2,3,4,5]) # 0(1)\n",
    "\n",
    "\n",
    "def arrayOfHinTimes(nn):\n",
    "    hiArray = []\n",
    "    for j in nn:\n",
    "        hiArray[j] = \"hi\"\n",
    "    return hiArray\n",
    "\n",
    "\n",
    "# arrayOfHinTimes(6)\n"
   ]
  },
  {
   "cell_type": "code",
   "execution_count": 27,
   "id": "90b80416",
   "metadata": {},
   "outputs": [
    {
     "name": "stdout",
     "output_type": "stream",
     "text": [
      "26\n"
     ]
    }
   ],
   "source": [
    "print(len(\"ajndklandklandklasndkasndk\")) # 0(1)"
   ]
  }
 ],
 "metadata": {
  "kernelspec": {
   "display_name": "Python 3 (ipykernel)",
   "language": "python",
   "name": "python3"
  },
  "language_info": {
   "codemirror_mode": {
    "name": "ipython",
    "version": 3
   },
   "file_extension": ".py",
   "mimetype": "text/x-python",
   "name": "python",
   "nbconvert_exporter": "python",
   "pygments_lexer": "ipython3",
   "version": "3.8.12"
  }
 },
 "nbformat": 4,
 "nbformat_minor": 5
}
