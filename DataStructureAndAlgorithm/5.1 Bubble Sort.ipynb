{
 "cells": [
  {
   "cell_type": "markdown",
   "id": "77bd0eda",
   "metadata": {},
   "source": [
    "Metode 1 <br>\n",
    "Mengulangi sampai menemukan terkecil sampai terbesar"
   ]
  },
  {
   "cell_type": "code",
   "execution_count": 4,
   "id": "ec238730",
   "metadata": {},
   "outputs": [],
   "source": [
    "arr=[98,23,45,14,6,67,33,42]\n",
    "arr1=[98,23,45,14,6,67,33,42]"
   ]
  },
  {
   "cell_type": "markdown",
   "id": "70551880",
   "metadata": {},
   "source": [
    "kalau pakai sorted or sort itu juga bisa tapi Complaxity nya??"
   ]
  },
  {
   "cell_type": "code",
   "execution_count": 6,
   "id": "51dd3f41",
   "metadata": {},
   "outputs": [
    {
     "name": "stdout",
     "output_type": "stream",
     "text": [
      "66.7 ns ± 3.01 ns per loop (mean ± std. dev. of 7 runs, 10,000,000 loops each)\n"
     ]
    }
   ],
   "source": [
    "arr.sort()\n",
    "%timeit arr"
   ]
  },
  {
   "cell_type": "code",
   "execution_count": 15,
   "id": "d37995fd",
   "metadata": {},
   "outputs": [],
   "source": [
    "def bubble_sort(arr):\n",
    "    for i in range(0,len(arr)-1):\n",
    "        for j in range(0,len(arr)-i-1):\n",
    "            if arr[j]>arr[j+1]:\n",
    "                arr[j],arr[j+1]=arr[j+1],arr[j]\n",
    "                print(arr)\n",
    "    return arr"
   ]
  },
  {
   "cell_type": "code",
   "execution_count": 16,
   "id": "081e406a",
   "metadata": {},
   "outputs": [],
   "source": [
    "arr=[98,23,45,14,6,67,33,42]"
   ]
  },
  {
   "cell_type": "code",
   "execution_count": 19,
   "id": "e5b83fdb",
   "metadata": {},
   "outputs": [
    {
     "name": "stdout",
     "output_type": "stream",
     "text": [
      "[23, 98, 45, 14, 6, 67, 33, 42]\n",
      "[23, 45, 98, 14, 6, 67, 33, 42]\n",
      "[23, 45, 14, 98, 6, 67, 33, 42]\n",
      "[23, 45, 14, 6, 98, 67, 33, 42]\n",
      "[23, 45, 14, 6, 67, 98, 33, 42]\n",
      "[23, 45, 14, 6, 67, 33, 98, 42]\n",
      "[23, 45, 14, 6, 67, 33, 42, 98]\n",
      "[23, 14, 45, 6, 67, 33, 42, 98]\n",
      "[23, 14, 6, 45, 67, 33, 42, 98]\n",
      "[23, 14, 6, 45, 33, 67, 42, 98]\n",
      "[23, 14, 6, 45, 33, 42, 67, 98]\n",
      "[14, 23, 6, 45, 33, 42, 67, 98]\n",
      "[14, 6, 23, 45, 33, 42, 67, 98]\n",
      "[14, 6, 23, 33, 45, 42, 67, 98]\n",
      "[14, 6, 23, 33, 42, 45, 67, 98]\n",
      "[6, 14, 23, 33, 42, 45, 67, 98]\n"
     ]
    },
    {
     "data": {
      "text/plain": [
       "[6, 14, 23, 33, 42, 45, 67, 98]"
      ]
     },
     "execution_count": 19,
     "metadata": {},
     "output_type": "execute_result"
    }
   ],
   "source": [
    "bubble_sort(arr)"
   ]
  },
  {
   "cell_type": "code",
   "execution_count": 18,
   "id": "95363216",
   "metadata": {},
   "outputs": [],
   "source": [
    "my_list = [12,5,13,8,9,65]"
   ]
  },
  {
   "cell_type": "code",
   "execution_count": 21,
   "id": "1ef88cd4",
   "metadata": {},
   "outputs": [
    {
     "name": "stdout",
     "output_type": "stream",
     "text": [
      "[5, 8, 9, 12, 13, 65]\n"
     ]
    }
   ],
   "source": [
    "def bubble_sort1(arr):\n",
    "    sorted = False\n",
    "    length = len(arr)-1\n",
    "    while not sorted:\n",
    "        sorted = True\n",
    "        for index, value in enumerate(arr[:length]):\n",
    "            if arr[index] > arr[index+1]:\n",
    "                sorted = False\n",
    "                arr[index], arr[index+1] = arr[index+1], arr[index]\n",
    "    return arr\n",
    "\n",
    "print(bubble_sort1(my_list))"
   ]
  }
 ],
 "metadata": {
  "kernelspec": {
   "display_name": "Python 3 (ipykernel)",
   "language": "python",
   "name": "python3"
  },
  "language_info": {
   "codemirror_mode": {
    "name": "ipython",
    "version": 3
   },
   "file_extension": ".py",
   "mimetype": "text/x-python",
   "name": "python",
   "nbconvert_exporter": "python",
   "pygments_lexer": "ipython3",
   "version": "3.9.7"
  }
 },
 "nbformat": 4,
 "nbformat_minor": 5
}
