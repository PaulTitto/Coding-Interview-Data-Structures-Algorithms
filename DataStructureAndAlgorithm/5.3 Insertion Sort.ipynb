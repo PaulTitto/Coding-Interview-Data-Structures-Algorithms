{
 "cells": [
  {
   "cell_type": "code",
   "execution_count": 18,
   "id": "5fbf780c",
   "metadata": {},
   "outputs": [],
   "source": [
    "def insertion_sort(arr):\n",
    "    for i in range(1, len(arr)):\n",
    "        curr_val = arr[i]\n",
    "        pos = i\n",
    "    \n",
    "    while arr[pos-1] > curr_val and pos>0:\n",
    "        arr[pos] = arr[pos-1]\n",
    "        pos = pos - 1\n",
    "        \n",
    "    arr[pos] = curr_val"
   ]
  },
  {
   "cell_type": "code",
   "execution_count": 19,
   "id": "97c95cee",
   "metadata": {},
   "outputs": [],
   "source": [
    "arr = [2,4,3,5,1]"
   ]
  },
  {
   "cell_type": "code",
   "execution_count": 20,
   "id": "cc68b100",
   "metadata": {},
   "outputs": [],
   "source": [
    "insertion_sort(arr)"
   ]
  },
  {
   "cell_type": "code",
   "execution_count": 21,
   "id": "0b114f28",
   "metadata": {},
   "outputs": [
    {
     "data": {
      "text/plain": [
       "[1, 2, 4, 3, 5]"
      ]
     },
     "execution_count": 21,
     "metadata": {},
     "output_type": "execute_result"
    }
   ],
   "source": [
    "arr"
   ]
  }
 ],
 "metadata": {
  "kernelspec": {
   "display_name": "Python 3 (ipykernel)",
   "language": "python",
   "name": "python3"
  },
  "language_info": {
   "codemirror_mode": {
    "name": "ipython",
    "version": 3
   },
   "file_extension": ".py",
   "mimetype": "text/x-python",
   "name": "python",
   "nbconvert_exporter": "python",
   "pygments_lexer": "ipython3",
   "version": "3.9.7"
  }
 },
 "nbformat": 4,
 "nbformat_minor": 5
}
