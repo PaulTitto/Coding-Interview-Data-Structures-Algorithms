{
 "cells": [
  {
   "cell_type": "code",
   "execution_count": 12,
   "id": "4f837425",
   "metadata": {},
   "outputs": [],
   "source": [
    "def pivot_place(list1,first,last):\n",
    "    pivot=list1[first]\n",
    "    left=first+1\n",
    "    right=last\n",
    "\n",
    "    while True:\n",
    "        while left<=right and list1[left]<=pivot:\n",
    "            left=left+1\n",
    "        while left<=right and list1[right]>=pivot:\n",
    "            right=right-1\n",
    "\n",
    "        if right<left:\n",
    "            break\n",
    "        else:\n",
    "            list1[left],list1[right]=list1[right],list1[left]\n",
    "\n",
    "    list1[first],list1[right]=list1[right],list1[first]\n",
    "    return right\n",
    "\n",
    "def quicksort(list1,first,last):\n",
    "    if first<last:\n",
    "        p=pivot_place(list1,first,last)\n",
    "        quicksort(list1,first,p-1)\n",
    "        quicksort(list1,p+1,last)"
   ]
  },
  {
   "cell_type": "code",
   "execution_count": 13,
   "id": "9e60fc97",
   "metadata": {},
   "outputs": [],
   "source": [
    "list1=[7,90,76,7,34,2]\n",
    "n=len(list1)"
   ]
  },
  {
   "cell_type": "code",
   "execution_count": 14,
   "id": "0aeaf02e",
   "metadata": {},
   "outputs": [
    {
     "name": "stdout",
     "output_type": "stream",
     "text": [
      "[2, 7, 7, 34, 76, 90]\n"
     ]
    }
   ],
   "source": [
    "quicksort(list1,0,n-1)\n",
    "print(list1)"
   ]
  }
 ],
 "metadata": {
  "kernelspec": {
   "display_name": "Python 3 (ipykernel)",
   "language": "python",
   "name": "python3"
  },
  "language_info": {
   "codemirror_mode": {
    "name": "ipython",
    "version": 3
   },
   "file_extension": ".py",
   "mimetype": "text/x-python",
   "name": "python",
   "nbconvert_exporter": "python",
   "pygments_lexer": "ipython3",
   "version": "3.9.7"
  }
 },
 "nbformat": 4,
 "nbformat_minor": 5
}
