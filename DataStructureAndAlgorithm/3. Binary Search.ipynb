{
 "cells": [
  {
   "cell_type": "code",
   "execution_count": 1,
   "id": "1ec20701",
   "metadata": {},
   "outputs": [],
   "source": [
    "arr=[11,21,31,41,51,61,71,81,91,101]"
   ]
  },
  {
   "cell_type": "code",
   "execution_count": 3,
   "id": "363ce639",
   "metadata": {},
   "outputs": [
    {
     "data": {
      "text/plain": [
       "9"
      ]
     },
     "execution_count": 3,
     "metadata": {},
     "output_type": "execute_result"
    }
   ],
   "source": [
    "len(arr)-1"
   ]
  },
  {
   "cell_type": "code",
   "execution_count": 4,
   "id": "c5ab8176",
   "metadata": {},
   "outputs": [],
   "source": [
    "def binary_search(arr, k):\n",
    "    first=0\n",
    "    last=len(arr)-1\n",
    "    \n",
    "    while first <= last:\n",
    "        mid = (first +last)//2\n",
    "        if arr[mid] == k:\n",
    "            return True\n",
    "        elif arr[mid] > k:\n",
    "            last=mid-1\n",
    "        else:\n",
    "            first=mid+1\n",
    "    return False"
   ]
  },
  {
   "cell_type": "code",
   "execution_count": 5,
   "id": "d75f4597",
   "metadata": {},
   "outputs": [
    {
     "data": {
      "text/plain": [
       "False"
      ]
     },
     "execution_count": 5,
     "metadata": {},
     "output_type": "execute_result"
    }
   ],
   "source": [
    "binary_search(arr, 641)"
   ]
  },
  {
   "cell_type": "code",
   "execution_count": 6,
   "id": "fb471214",
   "metadata": {},
   "outputs": [
    {
     "data": {
      "text/plain": [
       "True"
      ]
     },
     "execution_count": 6,
     "metadata": {},
     "output_type": "execute_result"
    }
   ],
   "source": [
    "binary_search(arr,11)"
   ]
  }
 ],
 "metadata": {
  "kernelspec": {
   "display_name": "Python 3 (ipykernel)",
   "language": "python",
   "name": "python3"
  },
  "language_info": {
   "codemirror_mode": {
    "name": "ipython",
    "version": 3
   },
   "file_extension": ".py",
   "mimetype": "text/x-python",
   "name": "python",
   "nbconvert_exporter": "python",
   "pygments_lexer": "ipython3",
   "version": "3.9.7"
  }
 },
 "nbformat": 4,
 "nbformat_minor": 5
}
