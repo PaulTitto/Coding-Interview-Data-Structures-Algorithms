{
 "cells": [
  {
   "cell_type": "code",
   "execution_count": 12,
   "id": "8852e5c7",
   "metadata": {},
   "outputs": [],
   "source": [
    "def merge_sort(list1):\n",
    "    if len(list1)>1:\n",
    "        mid = len(list1)//2\n",
    "        \n",
    "        left_list = list1[:mid]\n",
    "        right_list = list1[mid:]\n",
    "        \n",
    "        merge_sort(left_list)\n",
    "        merge_sort(right_list)\n",
    "        \n",
    "        i = j = k = 0\n",
    "        \n",
    "        while i < len(left_list) and j < len(right_list):\n",
    "            if left_list[i] <right_list[j]:\n",
    "                list1[k] = left_list[i]\n",
    "                i += 1\n",
    "                k += 1\n",
    "            else:\n",
    "                list1[k] = right_list[j]\n",
    "                j += 1\n",
    "                k += 1\n",
    "        \n",
    "        while len(left_list) > i:\n",
    "            list1[k] = left_list[i]\n",
    "            i += 1\n",
    "            k += 1\n",
    "        while len(right_list) > j:\n",
    "            list1[k] = right_list[j]\n",
    "            j += 1\n",
    "            k += 1"
   ]
  },
  {
   "cell_type": "code",
   "execution_count": 10,
   "id": "73c82aa7",
   "metadata": {},
   "outputs": [
    {
     "name": "stdout",
     "output_type": "stream",
     "text": [
      "7\n",
      "22\n",
      "33\n",
      "5\n",
      "66\n",
      "1\n",
      "77\n",
      "80\n"
     ]
    }
   ],
   "source": [
    "n = int(input())\n",
    "list1 = [int(input()) for i in range(n)]"
   ]
  },
  {
   "cell_type": "code",
   "execution_count": 14,
   "id": "8c27b28d",
   "metadata": {},
   "outputs": [],
   "source": [
    "merge_sort(list1)"
   ]
  },
  {
   "cell_type": "code",
   "execution_count": 15,
   "id": "ca21748d",
   "metadata": {},
   "outputs": [
    {
     "data": {
      "text/plain": [
       "[1, 5, 22, 33, 66, 77, 80]"
      ]
     },
     "execution_count": 15,
     "metadata": {},
     "output_type": "execute_result"
    }
   ],
   "source": [
    "list1"
   ]
  },
  {
   "cell_type": "markdown",
   "id": "8102710a",
   "metadata": {},
   "source": [
    "# Method 2"
   ]
  },
  {
   "cell_type": "code",
   "execution_count": 20,
   "id": "75604788",
   "metadata": {},
   "outputs": [
    {
     "name": "stdout",
     "output_type": "stream",
     "text": [
      "[0, 1, 1, 2, 4, 7, 9, 26, 100]\n"
     ]
    }
   ],
   "source": [
    "def merge(left, right):\n",
    "    result = []\n",
    "    i = j = 0\n",
    "    while i < len(left) and j < len(right):\n",
    "        if left[i] < right[j]:\n",
    "            result.append(left[i])\n",
    "            i += 1\n",
    "        else:\n",
    "            result.append(right[j])\n",
    "            j += 1\n",
    "            \n",
    "    result += left[i:]\n",
    "    result += right[j:]\n",
    "    return result\n",
    "\n",
    "def mergeSort(arr):\n",
    "    if len(arr) <= 1:\n",
    "        return arr\n",
    "    mid = len(arr)//2\n",
    "    left = mergeSort(arr[:mid])\n",
    "    right = mergeSort(arr[mid:])\n",
    "    return merge(left, right)\n",
    "\n",
    "arr = [4,2,7,1,100,26,9,1,0]\n",
    "print(mergeSort(arr))"
   ]
  }
 ],
 "metadata": {
  "kernelspec": {
   "display_name": "Python 3 (ipykernel)",
   "language": "python",
   "name": "python3"
  },
  "language_info": {
   "codemirror_mode": {
    "name": "ipython",
    "version": 3
   },
   "file_extension": ".py",
   "mimetype": "text/x-python",
   "name": "python",
   "nbconvert_exporter": "python",
   "pygments_lexer": "ipython3",
   "version": "3.9.7"
  }
 },
 "nbformat": 4,
 "nbformat_minor": 5
}
