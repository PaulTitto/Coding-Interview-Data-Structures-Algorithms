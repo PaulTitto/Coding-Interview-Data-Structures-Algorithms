{
 "cells": [
  {
   "cell_type": "code",
   "execution_count": 1,
   "id": "ee4e1477",
   "metadata": {},
   "outputs": [],
   "source": [
    "def seq_search(arr, ele):\n",
    "    for i in range(len(arr)):\n",
    "        return arr[i]==ele\n",
    "    return False"
   ]
  },
  {
   "cell_type": "code",
   "execution_count": 2,
   "id": "391c3389",
   "metadata": {},
   "outputs": [],
   "source": [
    "arr = [1,9,2,8,3,4,7,5,6,10]"
   ]
  },
  {
   "cell_type": "code",
   "execution_count": 3,
   "id": "94afe003",
   "metadata": {},
   "outputs": [
    {
     "name": "stdout",
     "output_type": "stream",
     "text": [
      "True\n"
     ]
    }
   ],
   "source": [
    "print(seq_search(arr,1))"
   ]
  },
  {
   "cell_type": "code",
   "execution_count": 4,
   "id": "f2782622",
   "metadata": {},
   "outputs": [
    {
     "name": "stdout",
     "output_type": "stream",
     "text": [
      "False\n"
     ]
    }
   ],
   "source": [
    "print(seq_search(arr,11))"
   ]
  },
  {
   "cell_type": "code",
   "execution_count": 5,
   "id": "f7abb929",
   "metadata": {},
   "outputs": [],
   "source": [
    "def seq_search2(arr,ele2):\n",
    "    for i in range(len(arr)):\n",
    "        if arr[i]>k:\n",
    "            return False\n",
    "        if arr[i]==k:\n",
    "            return True\n",
    "    return False"
   ]
  },
  {
   "cell_type": "code",
   "execution_count": 13,
   "id": "a927a006",
   "metadata": {},
   "outputs": [],
   "source": [
    "k = 11"
   ]
  },
  {
   "cell_type": "code",
   "execution_count": 14,
   "id": "f046721b",
   "metadata": {},
   "outputs": [
    {
     "name": "stdout",
     "output_type": "stream",
     "text": [
      "False\n"
     ]
    }
   ],
   "source": [
    "print(seq_search2(arr,k))"
   ]
  },
  {
   "cell_type": "code",
   "execution_count": 11,
   "id": "d38f344a",
   "metadata": {},
   "outputs": [
    {
     "name": "stdout",
     "output_type": "stream",
     "text": [
      "True\n"
     ]
    }
   ],
   "source": [
    "print(seq_search2(arr,k))"
   ]
  }
 ],
 "metadata": {
  "kernelspec": {
   "display_name": "Python 3 (ipykernel)",
   "language": "python",
   "name": "python3"
  },
  "language_info": {
   "codemirror_mode": {
    "name": "ipython",
    "version": 3
   },
   "file_extension": ".py",
   "mimetype": "text/x-python",
   "name": "python",
   "nbconvert_exporter": "python",
   "pygments_lexer": "ipython3",
   "version": "3.9.7"
  }
 },
 "nbformat": 4,
 "nbformat_minor": 5
}
