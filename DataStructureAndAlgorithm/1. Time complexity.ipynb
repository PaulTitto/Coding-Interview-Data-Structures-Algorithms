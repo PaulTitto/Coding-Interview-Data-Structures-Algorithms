{
 "cells": [
  {
   "cell_type": "markdown",
   "id": "b46526e3",
   "metadata": {},
   "source": [
    "**%timeit to calculate run - time**"
   ]
  },
  {
   "cell_type": "code",
   "execution_count": 1,
   "id": "45545f6e",
   "metadata": {},
   "outputs": [
    {
     "name": "stdout",
     "output_type": "stream",
     "text": [
      "55\n",
      "55.0\n",
      "12.1 µs ± 506 ns per loop (mean ± std. dev. of 7 runs, 100,000 loops each)\n",
      "386 ns ± 2.92 ns per loop (mean ± std. dev. of 7 runs, 1,000,000 loops each)\n"
     ]
    }
   ],
   "source": [
    "# Time to calculate run - time\n",
    "\n",
    "def numsum(num):\n",
    "    sum = 0\n",
    "    for i in range(num+1):\n",
    "        sum+=i\n",
    "    return sum\n",
    "\n",
    "def numsum2(n):\n",
    "    return  (n*(n+1))/2\n",
    "\n",
    "print(numsum(10))\n",
    "print(numsum2(10))\n",
    "\n",
    "%timeit numsum(100)\n",
    "%timeit numsum2(100)"
   ]
  },
  {
   "cell_type": "markdown",
   "id": "ab335034",
   "metadata": {},
   "source": [
    "**time complexity - how quickly it will grow**"
   ]
  },
  {
   "cell_type": "code",
   "execution_count": 3,
   "id": "737aa072",
   "metadata": {},
   "outputs": [
    {
     "name": "stdout",
     "output_type": "stream",
     "text": [
      "1\n"
     ]
    }
   ],
   "source": [
    "# O(1) constant\n",
    "def func_constant(values):\n",
    "    \"\"\"\n",
    "    Print first item in alis of value\n",
    "    \"\"\"\n",
    "    print(values[0])\n",
    "    \n",
    "func_constant([1,2,3])"
   ]
  },
  {
   "cell_type": "code",
   "execution_count": 6,
   "id": "69593f7c",
   "metadata": {},
   "outputs": [
    {
     "name": "stdout",
     "output_type": "stream",
     "text": [
      "1\n",
      "2\n",
      "3\n"
     ]
    }
   ],
   "source": [
    "#O(n) Linear\n",
    "def func_lin(lst):\n",
    "    '''\n",
    "    Takes in list and prints out all values\n",
    "    '''\n",
    "    for val in lst:\n",
    "        print(val)\n",
    "        \n",
    "func_lin([1,2,3])"
   ]
  },
  {
   "cell_type": "code",
   "execution_count": 10,
   "id": "727cebc2",
   "metadata": {},
   "outputs": [
    {
     "name": "stdout",
     "output_type": "stream",
     "text": [
      "0 0\n",
      "0 1\n",
      "0 2\n",
      "0 3\n",
      "1 0\n",
      "1 1\n",
      "1 2\n",
      "1 3\n",
      "2 0\n",
      "2 1\n",
      "2 2\n",
      "2 3\n",
      "3 0\n",
      "3 1\n",
      "3 2\n",
      "3 3\n"
     ]
    }
   ],
   "source": [
    "# O(n^2) \n",
    "\n",
    "def func_quad(lst):\n",
    "    \"\"\"\n",
    "    print pairs for every item in list\n",
    "    \"\"\"\n",
    "    \n",
    "    for item_1 in lst:\n",
    "        for item_2 in lst:\n",
    "            print(item_1, item_2)\n",
    "\n",
    "func_quad([0,1,2,3])"
   ]
  },
  {
   "cell_type": "code",
   "execution_count": 11,
   "id": "c9fdd100",
   "metadata": {},
   "outputs": [
    {
     "name": "stdout",
     "output_type": "stream",
     "text": [
      "0\n",
      "1\n",
      "2\n",
      "3\n",
      "0\n",
      "1\n",
      "2\n",
      "3\n",
      "0\n",
      "1\n",
      "2\n",
      "3\n"
     ]
    }
   ],
   "source": [
    "lst = [0,1,2,3]\n",
    "def print_3(lst):\n",
    "    \"\"\"\n",
    "    Print all item three times\n",
    "    \"\"\"\n",
    "    for val in lst:\n",
    "        print(val)\n",
    "    for val in lst:\n",
    "        print(val)\n",
    "    for val in lst:\n",
    "        print(val)\n",
    "print_3(lst)"
   ]
  },
  {
   "cell_type": "code",
   "execution_count": 17,
   "id": "636656b0",
   "metadata": {},
   "outputs": [
    {
     "name": "stdout",
     "output_type": "stream",
     "text": [
      "1\n",
      "1\n",
      "2\n",
      "3\n",
      "4\n",
      "5\n",
      "number\n",
      "number\n",
      "number\n",
      "number\n",
      "number\n",
      "number\n",
      "number\n",
      "number\n",
      "number\n",
      "number\n"
     ]
    }
   ],
   "source": [
    "def comp(lst1):\n",
    "    \"\"\"\n",
    "    This Function prints the first item 0(1)\n",
    "    then is prints the firs 1/2 of the list 0(n/2)\n",
    "    then prints a string 10 times 0(10)\n",
    "    \"\"\"\n",
    "    \n",
    "    print(lst1[0])\n",
    "    \n",
    "    mid = len(lst1)//2\n",
    "    \n",
    "    for val in lst1[:mid]:\n",
    "        print(val)\n",
    "        \n",
    "    for cal in range(10):\n",
    "        print('number')\n",
    "lst1 = [1,2,3,4,5,6,7,8,9,10]\n",
    "comp(lst1)"
   ]
  }
 ],
 "metadata": {
  "kernelspec": {
   "display_name": "Python 3 (ipykernel)",
   "language": "python",
   "name": "python3"
  },
  "language_info": {
   "codemirror_mode": {
    "name": "ipython",
    "version": 3
   },
   "file_extension": ".py",
   "mimetype": "text/x-python",
   "name": "python",
   "nbconvert_exporter": "python",
   "pygments_lexer": "ipython3",
   "version": "3.9.7"
  }
 },
 "nbformat": 4,
 "nbformat_minor": 5
}
