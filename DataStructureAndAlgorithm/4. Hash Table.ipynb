{
 "cells": [
  {
   "cell_type": "markdown",
   "id": "abe7b0d1",
   "metadata": {},
   "source": [
    "Implementation of Hash Table"
   ]
  },
  {
   "cell_type": "code",
   "execution_count": 1,
   "id": "473d76ea",
   "metadata": {},
   "outputs": [],
   "source": [
    "class HashTable():\n",
    "    def __init__(self, size):\n",
    "        self.size = size\n",
    "        self.bucket = [[] for i in range(self.size)]\n",
    "        \n",
    "    def hash_function(self, key):\n",
    "        return hash(key) % self.size\n",
    "    \n",
    "    def add(self, key):\n",
    "        i = self.hash_function(key)\n",
    "        if not key in self.bucket[i]:\n",
    "            self.bucket[i].append(key)\n",
    "            \n",
    "    def remove(self, key):\n",
    "        i = self.hash_function(key)\n",
    "        if key in self.bucket[i]:\n",
    "            self.bucket[i].remove(key)\n",
    "            \n",
    "    def contains(self, key):\n",
    "        i = self.hash_function(key)\n",
    "        if key in self.bucket[i]:\n",
    "            return True\n",
    "        return False"
   ]
  },
  {
   "cell_type": "code",
   "execution_count": 3,
   "id": "6ac86320",
   "metadata": {},
   "outputs": [],
   "source": [
    "myth = HashTable(10)"
   ]
  },
  {
   "cell_type": "code",
   "execution_count": 4,
   "id": "083abf02",
   "metadata": {},
   "outputs": [],
   "source": [
    "myth.add('hello')"
   ]
  },
  {
   "cell_type": "code",
   "execution_count": 5,
   "id": "cc3b244f",
   "metadata": {},
   "outputs": [],
   "source": [
    "myth.add(4432)"
   ]
  },
  {
   "cell_type": "code",
   "execution_count": 6,
   "id": "7d7d8017",
   "metadata": {},
   "outputs": [],
   "source": [
    "myth.add(44)"
   ]
  },
  {
   "cell_type": "code",
   "execution_count": 7,
   "id": "7e5c3259",
   "metadata": {},
   "outputs": [],
   "source": [
    "myth.remove(44)"
   ]
  },
  {
   "cell_type": "code",
   "execution_count": 8,
   "id": "ee0adbac",
   "metadata": {},
   "outputs": [
    {
     "data": {
      "text/plain": [
       "False"
      ]
     },
     "execution_count": 8,
     "metadata": {},
     "output_type": "execute_result"
    }
   ],
   "source": [
    "myth.contains(44)"
   ]
  },
  {
   "cell_type": "code",
   "execution_count": 9,
   "id": "d640572b",
   "metadata": {},
   "outputs": [
    {
     "data": {
      "text/plain": [
       "True"
      ]
     },
     "execution_count": 9,
     "metadata": {},
     "output_type": "execute_result"
    }
   ],
   "source": [
    "myth.contains(4432)"
   ]
  }
 ],
 "metadata": {
  "kernelspec": {
   "display_name": "Python 3 (ipykernel)",
   "language": "python",
   "name": "python3"
  },
  "language_info": {
   "codemirror_mode": {
    "name": "ipython",
    "version": 3
   },
   "file_extension": ".py",
   "mimetype": "text/x-python",
   "name": "python",
   "nbconvert_exporter": "python",
   "pygments_lexer": "ipython3",
   "version": "3.9.7"
  }
 },
 "nbformat": 4,
 "nbformat_minor": 5
}
