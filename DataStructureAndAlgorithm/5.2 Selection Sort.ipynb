{
 "cells": [
  {
   "cell_type": "code",
   "execution_count": 1,
   "id": "ca15910d",
   "metadata": {},
   "outputs": [],
   "source": [
    "def selection_sort(arr):\n",
    "    for i in range(len(arr)):\n",
    "        minpos = i\n",
    "        \n",
    "        for j in range(i+1, len(arr)):\n",
    "            if arr[j] < arr[minpos]:\n",
    "                minpos = j\n",
    "                \n",
    "        arr[i], arr[minpos] = arr[minpos], arr[i]\n",
    "    return arr"
   ]
  },
  {
   "cell_type": "code",
   "execution_count": 2,
   "id": "bd8a2b6b",
   "metadata": {},
   "outputs": [],
   "source": [
    "arr = [88,12,5,13,8,9,65]"
   ]
  },
  {
   "cell_type": "code",
   "execution_count": 3,
   "id": "ad5e033b",
   "metadata": {},
   "outputs": [
    {
     "name": "stdout",
     "output_type": "stream",
     "text": [
      "[5, 8, 9, 12, 13, 65, 88]\n"
     ]
    }
   ],
   "source": [
    "print(selection_sort(arr))"
   ]
  }
 ],
 "metadata": {
  "kernelspec": {
   "display_name": "Python 3 (ipykernel)",
   "language": "python",
   "name": "python3"
  },
  "language_info": {
   "codemirror_mode": {
    "name": "ipython",
    "version": 3
   },
   "file_extension": ".py",
   "mimetype": "text/x-python",
   "name": "python",
   "nbconvert_exporter": "python",
   "pygments_lexer": "ipython3",
   "version": "3.9.7"
  }
 },
 "nbformat": 4,
 "nbformat_minor": 5
}
